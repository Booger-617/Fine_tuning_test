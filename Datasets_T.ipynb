{
 "cells": [
  {
   "cell_type": "code",
   "execution_count": null,
   "metadata": {},
   "outputs": [],
   "source": [
    "import random\n",
    "import pandas as pd\n",
    "import datasets\n",
    "import docx\n",
    "import re\n",
    "from IPython.display import display, HTML\n",
    "from datasets import load_dataset"
   ]
  },
  {
   "cell_type": "code",
   "execution_count": null,
   "metadata": {},
   "outputs": [],
   "source": [
    "#数据导入\n",
    "#dataset = load_dataset('json', data_files='C:/Users/lenovo/Desktop/AI project/ariticle/FINE_TUNNING/SElF_FIne_tuing/huanhuan_imporve.json')\n",
    "dataset = load_dataset('csv', data_files='C:/Users/lenovo/Desktop/AI project/Seprate_docx/4-6岁故事范文.csv')\n"
   ]
  },
  {
   "cell_type": "code",
   "execution_count": null,
   "metadata": {},
   "outputs": [],
   "source": [
    "dataset"
   ]
  },
  {
   "cell_type": "code",
   "execution_count": null,
   "metadata": {},
   "outputs": [],
   "source": [
    "#数据检查\n",
    "import random\n",
    "import pandas as pd\n",
    "import datasets\n",
    "from IPython.display import display, HTML\n",
    "def show_random_elements(dataset, num_examples=10):\n",
    "    assert num_examples <= len(dataset), \"Can't pick more elements than there are in the dataset.\"\n",
    "    picks = []\n",
    "    for _ in range(num_examples):\n",
    "        pick = random.randint(0, len(dataset)-1)\n",
    "        while pick in picks:\n",
    "            pick = random.randint(0, len(dataset)-1)\n",
    "        picks.append(pick)\n",
    "    \n",
    "    df = pd.DataFrame(dataset[picks])\n",
    "    for column, typ in dataset.features.items():\n",
    "        if isinstance(typ, datasets.ClassLabel):\n",
    "            df[column] = df[column].transform(lambda i: typ.names[i])\n",
    "    display(HTML(df.to_html()))"
   ]
  },
  {
   "cell_type": "code",
   "execution_count": null,
   "metadata": {},
   "outputs": [],
   "source": [
    "show_random_elements(dataset['train'])"
   ]
  },
  {
   "cell_type": "code",
   "execution_count": null,
   "metadata": {},
   "outputs": [],
   "source": [
    "#将word读取并且输出到excel\n",
    "\n",
    "# 读取Word文件\n",
    "file_path =r\"C:\\Users\\lenovo\\Desktop\\AI project\\Seprate_docx\\4-6岁故事范文.docx\"\n",
    "doc = docx.Document(file_path)\n",
    "data_updated = []"
   ]
  },
  {
   "cell_type": "code",
   "execution_count": null,
   "metadata": {},
   "outputs": [],
   "source": [
    "\n",
    "# 定义正则表达式用于提取括号中的内容\n",
    "pattern = r\"（([^）]+)）\"\n",
    "\n",
    "# 定义一个变量用于保存当前的主题内容\n",
    "current_input = None\n",
    "\n",
    "# 遍历文档中的段落\n",
    "for para in doc.paragraphs:\n",
    "    # 寻找括号中的内容\n",
    "    match = re.search(pattern, para.text)\n",
    "    \n",
    "    # 如果找到括号中的内容\n",
    "    if match:\n",
    "        current_input = match.group(1)  # 提取括号中的内容\n",
    "        output_content = para.text.replace(match.group(0), '').strip()  # 去除括号及其内容后的剩余部分为故事主体\n",
    "        \n",
    "        # 去掉标题和数字\n",
    "        output_content = re.sub(r'^\\d+\\.', '', output_content)  # 删除以数字加点开头的标题（如：1.标题）\n",
    "        output_content = re.sub(r'^\\d+[\\s]*', '', output_content)  # 删除仅以数字开头的标题（如：1 标题）\n",
    "        output_content = re.sub(r'^[^\\w]+', '', output_content)  # 删除开头的标点符号和其他非字母数字字符\n",
    "        \n",
    "        # 仅存储主题段落作为输出\n",
    "        data_updated.append([current_input, output_content])  # 保证每行包含两个元素\n",
    "    elif current_input:\n",
    "        # 如果有主题内容并且当前段落没有括号，继续把后续的段落作为故事主体内容\n",
    "        output_content = para.text.strip()\n",
    "        \n",
    "        # 去掉标题和数字\n",
    "        output_content = re.sub(r'^\\d+\\.', '', output_content)  # 删除以数字加点开头的标题\n",
    "        output_content = re.sub(r'^\\d+[\\s]*', '', output_content)  # 删除仅以数字开头的标题\n",
    "        output_content = re.sub(r'^[^\\w]+', '', output_content)  # 删除开头的标点符号和其他非字母数字字符\n",
    "        \n",
    "        data_updated[-1][1] += \" \" + output_content  # 合并后续段落\n",
    "\n",
    "# 在所有行的前面添加\"写一篇童话故事\"\n",
    "data_with_instruction = [[\"根据下面的提示词，写一篇童话故事：\"] + row for row in data_updated]\n",
    "\n",
    "# 创建新的DataFrame，并添加第一列instruction\n",
    "df_updated = pd.DataFrame(data_with_instruction, columns=[\"instruction\", \"input\", \"output\"])"
   ]
  },
  {
   "cell_type": "code",
   "execution_count": null,
   "metadata": {},
   "outputs": [],
   "source": [
    "df_updated"
   ]
  },
  {
   "cell_type": "code",
   "execution_count": null,
   "metadata": {},
   "outputs": [],
   "source": [
    "# 保存新的CSV文件\n",
    "csv_file_path_updated = r\"C:\\Users\\lenovo\\Desktop\\AI project\\Seprate_docx\\4-6岁故事范文.csv\"  # 保存路径\n",
    "df_updated.to_csv(csv_file_path_updated, index=False, encoding='utf-8')\n",
    "\n",
    "csv_file_path_updated\n"
   ]
  }
 ],
 "metadata": {
  "kernelspec": {
   "display_name": "storyline",
   "language": "python",
   "name": "python3"
  },
  "language_info": {
   "codemirror_mode": {
    "name": "ipython",
    "version": 3
   },
   "file_extension": ".py",
   "mimetype": "text/x-python",
   "name": "python",
   "nbconvert_exporter": "python",
   "pygments_lexer": "ipython3",
   "version": "3.10.16"
  }
 },
 "nbformat": 4,
 "nbformat_minor": 2
}
