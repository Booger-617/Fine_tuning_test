{
 "cells": [
  {
   "cell_type": "code",
   "execution_count": 1,
   "metadata": {},
   "outputs": [
    {
     "name": "stderr",
     "output_type": "stream",
     "text": [
      "c:\\Users\\lenovo\\anaconda3\\envs\\storyline\\lib\\site-packages\\tqdm\\auto.py:21: TqdmWarning: IProgress not found. Please update jupyter and ipywidgets. See https://ipywidgets.readthedocs.io/en/stable/user_install.html\n",
      "  from .autonotebook import tqdm as notebook_tqdm\n"
     ]
    }
   ],
   "source": [
    "from transformers import AutoModelForCausalLM, AutoTokenizer\n",
    "from peft import LoraConfig, TaskType, get_peft_model,PeftModel\n",
    "import torch"
   ]
  },
  {
   "cell_type": "code",
   "execution_count": 5,
   "metadata": {},
   "outputs": [],
   "source": [
    "model_path = r'D:\\MODELS\\deepseek-ai\\DeepSeek-R1-Distill-Qwen-1___5B'\n",
    "\n",
    "#lora_path = './output/llama3_1_instruct_lora/checkpoint-699' # 这里改称你的 lora 输出对应 checkpoint 地址\n",
    "\n",
    "# 加载tokenizer\n",
    "tokenizer = AutoTokenizer.from_pretrained(model_path, trust_remote_code=True)\n",
    "\n",
    "# 加载模型\n",
    "model = AutoModelForCausalLM.from_pretrained(model_path, device_map=\"cuda:0\",torch_dtype=torch.bfloat16, trust_remote_code=True).eval()\n"
   ]
  },
  {
   "cell_type": "code",
   "execution_count": null,
   "metadata": {},
   "outputs": [],
   "source": [
    "#这是调用微调过的lora数据包，如果没有微调过的lora数据包，可以不调用\n",
    "lora_adapter_path = r'D:\\MODELS\\deepseek-ai\\model_2025-03-03_19-41-23-lora\\checkpoint-750'\n",
    "model = PeftModel.from_pretrained(model, lora_adapter_path)"
   ]
  },
  {
   "cell_type": "code",
   "execution_count": 7,
   "metadata": {},
   "outputs": [
    {
     "name": "stderr",
     "output_type": "stream",
     "text": [
      "Setting `pad_token_id` to `eos_token_id`:151643 for open-end generation.\n"
     ]
    },
    {
     "name": "stdout",
     "output_type": "stream",
     "text": [
      "写一篇童话故事：小猪，森林里住着一只小猪，它每天早上都会在森林的某个位置开始行走，但每次行走后都会停下来，留下一个脚印。小猪的脚印会随着时间的流逝逐渐消失。最后，小猪的脚印会消失到一个点。如果小猪的脚印在某个点消失，那么小猪的脚印在那个点上的数量是1。否则，数量是0。如果小猪的脚印在某个点消失，那么小猪的脚印在那个点上的数量是1。否则，数量是0。如果小猪的脚印在某个点消失，那么小猪的脚印在那个点上的数量是1。否则，数量是0。如果小猪的脚印在某个点消失，那么小猪的脚印在那个点上的数量是1。否则，数量是0。如果小猪的脚印在某个点消失，那么小猪的脚印在那个点\n"
     ]
    }
   ],
   "source": [
    "text = \"写一篇童话故事：小猪，森林\"\n",
    "inputs = tokenizer(text, return_tensors=\"pt\").to(0)\n",
    "\n",
    "out = model.generate(**inputs, max_new_tokens=200)\n",
    "print(tokenizer.decode(out[0], skip_special_tokens=True)) "
   ]
  },
  {
   "cell_type": "code",
   "execution_count": 4,
   "metadata": {},
   "outputs": [],
   "source": [
    "model= None\n",
    "torch.cuda.empty_cache()"
   ]
  }
 ],
 "metadata": {
  "kernelspec": {
   "display_name": "storyline",
   "language": "python",
   "name": "python3"
  },
  "language_info": {
   "codemirror_mode": {
    "name": "ipython",
    "version": 3
   },
   "file_extension": ".py",
   "mimetype": "text/x-python",
   "name": "python",
   "nbconvert_exporter": "python",
   "pygments_lexer": "ipython3",
   "version": "3.10.16"
  }
 },
 "nbformat": 4,
 "nbformat_minor": 2
}
